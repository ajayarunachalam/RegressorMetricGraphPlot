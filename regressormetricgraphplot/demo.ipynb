{
 "cells": [
  {
   "cell_type": "code",
   "execution_count": 1,
   "metadata": {},
   "outputs": [],
   "source": [
    "import pandas as pd\n",
    "from CompareModels import *\n",
    "%matplotlib inline"
   ]
  },
  {
   "cell_type": "code",
   "execution_count": 2,
   "metadata": {},
   "outputs": [
    {
     "data": {
      "text/html": [
       "<div>\n",
       "<style scoped>\n",
       "    .dataframe tbody tr th:only-of-type {\n",
       "        vertical-align: middle;\n",
       "    }\n",
       "\n",
       "    .dataframe tbody tr th {\n",
       "        vertical-align: top;\n",
       "    }\n",
       "\n",
       "    .dataframe thead th {\n",
       "        text-align: right;\n",
       "    }\n",
       "</style>\n",
       "<table border=\"1\" class=\"dataframe\">\n",
       "  <thead>\n",
       "    <tr style=\"text-align: right;\">\n",
       "      <th></th>\n",
       "      <th>FileID</th>\n",
       "      <th>OM</th>\n",
       "      <th>Mean 01</th>\n",
       "      <th>Mean 02</th>\n",
       "      <th>Mean 03</th>\n",
       "      <th>Mean 04</th>\n",
       "      <th>Mean 05</th>\n",
       "      <th>Mean 06</th>\n",
       "      <th>Mean 07</th>\n",
       "      <th>Mean 08</th>\n",
       "      <th>...</th>\n",
       "      <th>Median 26</th>\n",
       "      <th>Median 27</th>\n",
       "      <th>Median 28</th>\n",
       "      <th>Median 29</th>\n",
       "      <th>Median 30</th>\n",
       "      <th>Median 31</th>\n",
       "      <th>Median 32</th>\n",
       "      <th>Median 33</th>\n",
       "      <th>Median 34</th>\n",
       "      <th>Median 35</th>\n",
       "    </tr>\n",
       "  </thead>\n",
       "  <tbody>\n",
       "    <tr>\n",
       "      <th>0</th>\n",
       "      <td>205251</td>\n",
       "      <td>13.5</td>\n",
       "      <td>3.187766</td>\n",
       "      <td>3.686590</td>\n",
       "      <td>4.047245</td>\n",
       "      <td>4.579875</td>\n",
       "      <td>4.880189</td>\n",
       "      <td>5.187081</td>\n",
       "      <td>5.841168</td>\n",
       "      <td>5.871522</td>\n",
       "      <td>...</td>\n",
       "      <td>21.87302</td>\n",
       "      <td>20.36333</td>\n",
       "      <td>25.37740</td>\n",
       "      <td>23.69034</td>\n",
       "      <td>21.48566</td>\n",
       "      <td>28.59232</td>\n",
       "      <td>33.64448</td>\n",
       "      <td>46.99519</td>\n",
       "      <td>24.33077</td>\n",
       "      <td>23.86674</td>\n",
       "    </tr>\n",
       "    <tr>\n",
       "      <th>1</th>\n",
       "      <td>205252</td>\n",
       "      <td>13.5</td>\n",
       "      <td>3.142342</td>\n",
       "      <td>3.616215</td>\n",
       "      <td>3.961146</td>\n",
       "      <td>4.470128</td>\n",
       "      <td>4.762488</td>\n",
       "      <td>5.061131</td>\n",
       "      <td>5.701381</td>\n",
       "      <td>5.736935</td>\n",
       "      <td>...</td>\n",
       "      <td>22.28147</td>\n",
       "      <td>20.58624</td>\n",
       "      <td>25.33097</td>\n",
       "      <td>23.79430</td>\n",
       "      <td>21.23532</td>\n",
       "      <td>28.02816</td>\n",
       "      <td>33.14782</td>\n",
       "      <td>47.21833</td>\n",
       "      <td>23.98878</td>\n",
       "      <td>23.83972</td>\n",
       "    </tr>\n",
       "    <tr>\n",
       "      <th>2</th>\n",
       "      <td>205253</td>\n",
       "      <td>13.5</td>\n",
       "      <td>3.220943</td>\n",
       "      <td>3.711880</td>\n",
       "      <td>4.069660</td>\n",
       "      <td>4.599125</td>\n",
       "      <td>4.900616</td>\n",
       "      <td>5.211713</td>\n",
       "      <td>5.879071</td>\n",
       "      <td>5.912705</td>\n",
       "      <td>...</td>\n",
       "      <td>22.08118</td>\n",
       "      <td>20.28192</td>\n",
       "      <td>25.49631</td>\n",
       "      <td>23.79961</td>\n",
       "      <td>21.22771</td>\n",
       "      <td>28.58788</td>\n",
       "      <td>33.18180</td>\n",
       "      <td>47.02306</td>\n",
       "      <td>23.98453</td>\n",
       "      <td>23.75836</td>\n",
       "    </tr>\n",
       "    <tr>\n",
       "      <th>3</th>\n",
       "      <td>206531</td>\n",
       "      <td>2.4</td>\n",
       "      <td>7.903598</td>\n",
       "      <td>10.250210</td>\n",
       "      <td>11.692690</td>\n",
       "      <td>13.865620</td>\n",
       "      <td>14.898810</td>\n",
       "      <td>15.881920</td>\n",
       "      <td>17.815890</td>\n",
       "      <td>17.794080</td>\n",
       "      <td>...</td>\n",
       "      <td>28.15154</td>\n",
       "      <td>25.21462</td>\n",
       "      <td>32.19106</td>\n",
       "      <td>29.91846</td>\n",
       "      <td>27.17972</td>\n",
       "      <td>47.98724</td>\n",
       "      <td>58.52629</td>\n",
       "      <td>52.49865</td>\n",
       "      <td>26.79237</td>\n",
       "      <td>28.89512</td>\n",
       "    </tr>\n",
       "    <tr>\n",
       "      <th>4</th>\n",
       "      <td>206532</td>\n",
       "      <td>2.4</td>\n",
       "      <td>8.387898</td>\n",
       "      <td>10.928410</td>\n",
       "      <td>12.508890</td>\n",
       "      <td>14.913650</td>\n",
       "      <td>16.064120</td>\n",
       "      <td>17.164420</td>\n",
       "      <td>19.333660</td>\n",
       "      <td>19.288540</td>\n",
       "      <td>...</td>\n",
       "      <td>29.17678</td>\n",
       "      <td>25.34175</td>\n",
       "      <td>33.15144</td>\n",
       "      <td>30.47081</td>\n",
       "      <td>27.54182</td>\n",
       "      <td>50.25858</td>\n",
       "      <td>61.13637</td>\n",
       "      <td>53.09432</td>\n",
       "      <td>27.56610</td>\n",
       "      <td>29.67252</td>\n",
       "    </tr>\n",
       "  </tbody>\n",
       "</table>\n",
       "<p>5 rows × 107 columns</p>\n",
       "</div>"
      ],
      "text/plain": [
       "   FileID    OM   Mean 01    Mean 02    Mean 03    Mean 04    Mean 05  \\\n",
       "0  205251  13.5  3.187766   3.686590   4.047245   4.579875   4.880189   \n",
       "1  205252  13.5  3.142342   3.616215   3.961146   4.470128   4.762488   \n",
       "2  205253  13.5  3.220943   3.711880   4.069660   4.599125   4.900616   \n",
       "3  206531   2.4  7.903598  10.250210  11.692690  13.865620  14.898810   \n",
       "4  206532   2.4  8.387898  10.928410  12.508890  14.913650  16.064120   \n",
       "\n",
       "     Mean 06    Mean 07    Mean 08  ...  Median 26  Median 27  Median 28  \\\n",
       "0   5.187081   5.841168   5.871522  ...   21.87302   20.36333   25.37740   \n",
       "1   5.061131   5.701381   5.736935  ...   22.28147   20.58624   25.33097   \n",
       "2   5.211713   5.879071   5.912705  ...   22.08118   20.28192   25.49631   \n",
       "3  15.881920  17.815890  17.794080  ...   28.15154   25.21462   32.19106   \n",
       "4  17.164420  19.333660  19.288540  ...   29.17678   25.34175   33.15144   \n",
       "\n",
       "   Median 29  Median 30  Median 31  Median 32  Median 33  Median 34  Median 35  \n",
       "0   23.69034   21.48566   28.59232   33.64448   46.99519   24.33077   23.86674  \n",
       "1   23.79430   21.23532   28.02816   33.14782   47.21833   23.98878   23.83972  \n",
       "2   23.79961   21.22771   28.58788   33.18180   47.02306   23.98453   23.75836  \n",
       "3   29.91846   27.17972   47.98724   58.52629   52.49865   26.79237   28.89512  \n",
       "4   30.47081   27.54182   50.25858   61.13637   53.09432   27.56610   29.67252  \n",
       "\n",
       "[5 rows x 107 columns]"
      ]
     },
     "execution_count": 2,
     "metadata": {},
     "output_type": "execute_result"
    }
   ],
   "source": [
    "df = pd.read_csv('SOIL_SPECTRAL.csv')\n",
    "df.head()"
   ]
  },
  {
   "cell_type": "code",
   "execution_count": 3,
   "metadata": {},
   "outputs": [
    {
     "data": {
      "text/plain": [
       "(26, 107)"
      ]
     },
     "execution_count": 3,
     "metadata": {},
     "output_type": "execute_result"
    }
   ],
   "source": [
    "df.shape"
   ]
  },
  {
   "cell_type": "code",
   "execution_count": 4,
   "metadata": {},
   "outputs": [],
   "source": [
    "df1 = df.copy()"
   ]
  },
  {
   "cell_type": "code",
   "execution_count": 5,
   "metadata": {},
   "outputs": [
    {
     "data": {
      "text/html": [
       "<div>\n",
       "<style scoped>\n",
       "    .dataframe tbody tr th:only-of-type {\n",
       "        vertical-align: middle;\n",
       "    }\n",
       "\n",
       "    .dataframe tbody tr th {\n",
       "        vertical-align: top;\n",
       "    }\n",
       "\n",
       "    .dataframe thead th {\n",
       "        text-align: right;\n",
       "    }\n",
       "</style>\n",
       "<table border=\"1\" class=\"dataframe\">\n",
       "  <thead>\n",
       "    <tr style=\"text-align: right;\">\n",
       "      <th></th>\n",
       "      <th>OM</th>\n",
       "      <th>Mean 01</th>\n",
       "      <th>Mean 02</th>\n",
       "      <th>Mean 03</th>\n",
       "      <th>Mean 04</th>\n",
       "      <th>Mean 05</th>\n",
       "      <th>Mean 06</th>\n",
       "      <th>Mean 07</th>\n",
       "      <th>Mean 08</th>\n",
       "      <th>Mean 09</th>\n",
       "      <th>...</th>\n",
       "      <th>Median 26</th>\n",
       "      <th>Median 27</th>\n",
       "      <th>Median 28</th>\n",
       "      <th>Median 29</th>\n",
       "      <th>Median 30</th>\n",
       "      <th>Median 31</th>\n",
       "      <th>Median 32</th>\n",
       "      <th>Median 33</th>\n",
       "      <th>Median 34</th>\n",
       "      <th>Median 35</th>\n",
       "    </tr>\n",
       "  </thead>\n",
       "  <tbody>\n",
       "    <tr>\n",
       "      <th>count</th>\n",
       "      <td>26.000000</td>\n",
       "      <td>26.000000</td>\n",
       "      <td>26.000000</td>\n",
       "      <td>26.000000</td>\n",
       "      <td>26.000000</td>\n",
       "      <td>26.000000</td>\n",
       "      <td>26.000000</td>\n",
       "      <td>26.000000</td>\n",
       "      <td>26.000000</td>\n",
       "      <td>26.000000</td>\n",
       "      <td>...</td>\n",
       "      <td>26.000000</td>\n",
       "      <td>26.000000</td>\n",
       "      <td>26.000000</td>\n",
       "      <td>26.000000</td>\n",
       "      <td>26.000000</td>\n",
       "      <td>26.000000</td>\n",
       "      <td>26.000000</td>\n",
       "      <td>26.000000</td>\n",
       "      <td>26.000000</td>\n",
       "      <td>26.000000</td>\n",
       "    </tr>\n",
       "    <tr>\n",
       "      <th>mean</th>\n",
       "      <td>7.646154</td>\n",
       "      <td>5.542302</td>\n",
       "      <td>6.900763</td>\n",
       "      <td>7.797973</td>\n",
       "      <td>9.124335</td>\n",
       "      <td>9.796619</td>\n",
       "      <td>10.482731</td>\n",
       "      <td>11.886042</td>\n",
       "      <td>11.870861</td>\n",
       "      <td>13.999152</td>\n",
       "      <td>...</td>\n",
       "      <td>25.547934</td>\n",
       "      <td>23.120235</td>\n",
       "      <td>29.308323</td>\n",
       "      <td>26.968339</td>\n",
       "      <td>24.430927</td>\n",
       "      <td>38.132282</td>\n",
       "      <td>46.008578</td>\n",
       "      <td>50.230937</td>\n",
       "      <td>25.840374</td>\n",
       "      <td>26.656660</td>\n",
       "    </tr>\n",
       "    <tr>\n",
       "      <th>std</th>\n",
       "      <td>5.004417</td>\n",
       "      <td>1.901540</td>\n",
       "      <td>2.613230</td>\n",
       "      <td>3.055445</td>\n",
       "      <td>3.714430</td>\n",
       "      <td>4.006379</td>\n",
       "      <td>4.291348</td>\n",
       "      <td>4.855594</td>\n",
       "      <td>4.829945</td>\n",
       "      <td>5.742481</td>\n",
       "      <td>...</td>\n",
       "      <td>2.554379</td>\n",
       "      <td>1.819449</td>\n",
       "      <td>2.735543</td>\n",
       "      <td>2.486859</td>\n",
       "      <td>2.312574</td>\n",
       "      <td>7.912151</td>\n",
       "      <td>10.132896</td>\n",
       "      <td>2.179210</td>\n",
       "      <td>1.256471</td>\n",
       "      <td>2.108630</td>\n",
       "    </tr>\n",
       "    <tr>\n",
       "      <th>min</th>\n",
       "      <td>2.400000</td>\n",
       "      <td>3.142342</td>\n",
       "      <td>3.589346</td>\n",
       "      <td>3.864290</td>\n",
       "      <td>4.259625</td>\n",
       "      <td>4.517738</td>\n",
       "      <td>4.774503</td>\n",
       "      <td>5.283154</td>\n",
       "      <td>5.310415</td>\n",
       "      <td>6.083883</td>\n",
       "      <td>...</td>\n",
       "      <td>21.873020</td>\n",
       "      <td>20.281920</td>\n",
       "      <td>25.330970</td>\n",
       "      <td>23.421050</td>\n",
       "      <td>21.227710</td>\n",
       "      <td>27.250060</td>\n",
       "      <td>31.309850</td>\n",
       "      <td>46.995190</td>\n",
       "      <td>23.984530</td>\n",
       "      <td>23.758360</td>\n",
       "    </tr>\n",
       "    <tr>\n",
       "      <th>25%</th>\n",
       "      <td>2.625000</td>\n",
       "      <td>4.178723</td>\n",
       "      <td>4.775308</td>\n",
       "      <td>5.205520</td>\n",
       "      <td>5.870406</td>\n",
       "      <td>6.273515</td>\n",
       "      <td>6.688114</td>\n",
       "      <td>7.528503</td>\n",
       "      <td>7.534103</td>\n",
       "      <td>8.694409</td>\n",
       "      <td>...</td>\n",
       "      <td>23.378205</td>\n",
       "      <td>21.714213</td>\n",
       "      <td>26.952332</td>\n",
       "      <td>24.760787</td>\n",
       "      <td>22.491300</td>\n",
       "      <td>31.076878</td>\n",
       "      <td>36.937635</td>\n",
       "      <td>48.732210</td>\n",
       "      <td>24.974082</td>\n",
       "      <td>24.911435</td>\n",
       "    </tr>\n",
       "    <tr>\n",
       "      <th>50%</th>\n",
       "      <td>5.250000</td>\n",
       "      <td>5.008231</td>\n",
       "      <td>6.167412</td>\n",
       "      <td>6.931021</td>\n",
       "      <td>8.124839</td>\n",
       "      <td>8.786515</td>\n",
       "      <td>9.513460</td>\n",
       "      <td>11.085065</td>\n",
       "      <td>11.063600</td>\n",
       "      <td>13.393570</td>\n",
       "      <td>...</td>\n",
       "      <td>25.329575</td>\n",
       "      <td>23.108140</td>\n",
       "      <td>29.198500</td>\n",
       "      <td>26.927385</td>\n",
       "      <td>24.198440</td>\n",
       "      <td>37.313410</td>\n",
       "      <td>45.031665</td>\n",
       "      <td>49.839850</td>\n",
       "      <td>25.616300</td>\n",
       "      <td>26.557250</td>\n",
       "    </tr>\n",
       "    <tr>\n",
       "      <th>75%</th>\n",
       "      <td>13.300000</td>\n",
       "      <td>7.339632</td>\n",
       "      <td>8.836452</td>\n",
       "      <td>9.723553</td>\n",
       "      <td>11.388953</td>\n",
       "      <td>12.298130</td>\n",
       "      <td>13.267977</td>\n",
       "      <td>15.346215</td>\n",
       "      <td>15.324792</td>\n",
       "      <td>18.421667</td>\n",
       "      <td>...</td>\n",
       "      <td>26.851703</td>\n",
       "      <td>24.114087</td>\n",
       "      <td>31.071503</td>\n",
       "      <td>28.107065</td>\n",
       "      <td>25.792877</td>\n",
       "      <td>43.235545</td>\n",
       "      <td>52.639117</td>\n",
       "      <td>51.321307</td>\n",
       "      <td>26.610967</td>\n",
       "      <td>27.721865</td>\n",
       "    </tr>\n",
       "    <tr>\n",
       "      <th>max</th>\n",
       "      <td>15.900000</td>\n",
       "      <td>9.348721</td>\n",
       "      <td>12.364500</td>\n",
       "      <td>14.311560</td>\n",
       "      <td>16.965570</td>\n",
       "      <td>18.243480</td>\n",
       "      <td>19.585720</td>\n",
       "      <td>22.277620</td>\n",
       "      <td>22.238720</td>\n",
       "      <td>26.471280</td>\n",
       "      <td>...</td>\n",
       "      <td>31.519840</td>\n",
       "      <td>27.007780</td>\n",
       "      <td>35.277190</td>\n",
       "      <td>32.771900</td>\n",
       "      <td>29.782030</td>\n",
       "      <td>55.781070</td>\n",
       "      <td>67.790340</td>\n",
       "      <td>55.410460</td>\n",
       "      <td>28.777000</td>\n",
       "      <td>31.619320</td>\n",
       "    </tr>\n",
       "  </tbody>\n",
       "</table>\n",
       "<p>8 rows × 106 columns</p>\n",
       "</div>"
      ],
      "text/plain": [
       "              OM    Mean 01    Mean 02    Mean 03    Mean 04    Mean 05  \\\n",
       "count  26.000000  26.000000  26.000000  26.000000  26.000000  26.000000   \n",
       "mean    7.646154   5.542302   6.900763   7.797973   9.124335   9.796619   \n",
       "std     5.004417   1.901540   2.613230   3.055445   3.714430   4.006379   \n",
       "min     2.400000   3.142342   3.589346   3.864290   4.259625   4.517738   \n",
       "25%     2.625000   4.178723   4.775308   5.205520   5.870406   6.273515   \n",
       "50%     5.250000   5.008231   6.167412   6.931021   8.124839   8.786515   \n",
       "75%    13.300000   7.339632   8.836452   9.723553  11.388953  12.298130   \n",
       "max    15.900000   9.348721  12.364500  14.311560  16.965570  18.243480   \n",
       "\n",
       "         Mean 06    Mean 07    Mean 08    Mean 09  ...  Median 26  Median 27  \\\n",
       "count  26.000000  26.000000  26.000000  26.000000  ...  26.000000  26.000000   \n",
       "mean   10.482731  11.886042  11.870861  13.999152  ...  25.547934  23.120235   \n",
       "std     4.291348   4.855594   4.829945   5.742481  ...   2.554379   1.819449   \n",
       "min     4.774503   5.283154   5.310415   6.083883  ...  21.873020  20.281920   \n",
       "25%     6.688114   7.528503   7.534103   8.694409  ...  23.378205  21.714213   \n",
       "50%     9.513460  11.085065  11.063600  13.393570  ...  25.329575  23.108140   \n",
       "75%    13.267977  15.346215  15.324792  18.421667  ...  26.851703  24.114087   \n",
       "max    19.585720  22.277620  22.238720  26.471280  ...  31.519840  27.007780   \n",
       "\n",
       "       Median 28  Median 29  Median 30  Median 31  Median 32  Median 33  \\\n",
       "count  26.000000  26.000000  26.000000  26.000000  26.000000  26.000000   \n",
       "mean   29.308323  26.968339  24.430927  38.132282  46.008578  50.230937   \n",
       "std     2.735543   2.486859   2.312574   7.912151  10.132896   2.179210   \n",
       "min    25.330970  23.421050  21.227710  27.250060  31.309850  46.995190   \n",
       "25%    26.952332  24.760787  22.491300  31.076878  36.937635  48.732210   \n",
       "50%    29.198500  26.927385  24.198440  37.313410  45.031665  49.839850   \n",
       "75%    31.071503  28.107065  25.792877  43.235545  52.639117  51.321307   \n",
       "max    35.277190  32.771900  29.782030  55.781070  67.790340  55.410460   \n",
       "\n",
       "       Median 34  Median 35  \n",
       "count  26.000000  26.000000  \n",
       "mean   25.840374  26.656660  \n",
       "std     1.256471   2.108630  \n",
       "min    23.984530  23.758360  \n",
       "25%    24.974082  24.911435  \n",
       "50%    25.616300  26.557250  \n",
       "75%    26.610967  27.721865  \n",
       "max    28.777000  31.619320  \n",
       "\n",
       "[8 rows x 106 columns]"
      ]
     },
     "execution_count": 5,
     "metadata": {},
     "output_type": "execute_result"
    }
   ],
   "source": [
    "df1.describe().drop('FileID', axis=1)"
   ]
  },
  {
   "cell_type": "code",
   "execution_count": 6,
   "metadata": {},
   "outputs": [
    {
     "data": {
      "text/plain": [
       "Index(['FileID', 'OM', 'Mean 01', 'Mean 02', 'Mean 03', 'Mean 04', 'Mean 05',\n",
       "       'Mean 06', 'Mean 07', 'Mean 08',\n",
       "       ...\n",
       "       'Median 26', 'Median 27', 'Median 28', 'Median 29', 'Median 30',\n",
       "       'Median 31', 'Median 32', 'Median 33', 'Median 34', 'Median 35'],\n",
       "      dtype='object', length=107)"
      ]
     },
     "execution_count": 6,
     "metadata": {},
     "output_type": "execute_result"
    }
   ],
   "source": [
    "df.columns"
   ]
  },
  {
   "cell_type": "code",
   "execution_count": 7,
   "metadata": {},
   "outputs": [
    {
     "data": {
      "text/plain": [
       "Index(['FileID', 'OM', 'Mean 01', 'Mean 02', 'Mean 03', 'Mean 04', 'Mean 05',\n",
       "       'Mean 06', 'Mean 07', 'Mean 08',\n",
       "       ...\n",
       "       'Median 26', 'Median 27', 'Median 28', 'Median 29', 'Median 30',\n",
       "       'Median 31', 'Median 32', 'Median 33', 'Median 34', 'Median 35'],\n",
       "      dtype='object', length=107)"
      ]
     },
     "execution_count": 7,
     "metadata": {},
     "output_type": "execute_result"
    }
   ],
   "source": [
    "df1.columns"
   ]
  },
  {
   "cell_type": "code",
   "execution_count": 8,
   "metadata": {},
   "outputs": [],
   "source": [
    "# Dependent and independent variables\n",
    "X = df.drop(labels=['FileID', 'OM'], axis=1).values\n",
    "y = df['OM'].values"
   ]
  },
  {
   "cell_type": "code",
   "execution_count": 9,
   "metadata": {},
   "outputs": [],
   "source": [
    "# Splitting data into training and test set\n",
    "from sklearn.model_selection import train_test_split\n",
    "X_train, X_test, y_train, y_test = train_test_split(X, y, test_size=0.3, random_state=10)"
   ]
  },
  {
   "cell_type": "markdown",
   "metadata": {},
   "source": [
    "# Linear Regression"
   ]
  },
  {
   "cell_type": "code",
   "execution_count": 10,
   "metadata": {},
   "outputs": [],
   "source": [
    "# Fitting training set to linear regression model\n",
    "from sklearn.linear_model import LinearRegression\n",
    "lr = LinearRegression(n_jobs=-1)\n",
    "lr.fit(X_train, y_train)\n",
    "\n",
    "# Predicting the yield\n",
    "y_pred = lr.predict(X_test)"
   ]
  },
  {
   "cell_type": "code",
   "execution_count": 11,
   "metadata": {},
   "outputs": [
    {
     "data": {
      "text/plain": [
       "array([ 0.71459666, -0.78076838, 14.89467853,  2.84436842, 15.53985106,\n",
       "       11.66117682, 14.24309481,  7.23954939])"
      ]
     },
     "execution_count": 11,
     "metadata": {},
     "output_type": "execute_result"
    }
   ],
   "source": [
    "y_pred"
   ]
  },
  {
   "cell_type": "code",
   "execution_count": 12,
   "metadata": {},
   "outputs": [
    {
     "data": {
      "text/plain": [
       "(0.5349811362171855, 3.630679220792367)"
      ]
     },
     "execution_count": 12,
     "metadata": {},
     "output_type": "execute_result"
    }
   ],
   "source": [
    "# Metrics\n",
    "CompareModels.R2AndRMSE(y_test=y_test, y_pred=y_pred)"
   ]
  },
  {
   "cell_type": "code",
   "execution_count": 13,
   "metadata": {},
   "outputs": [],
   "source": [
    "plot = CompareModels()"
   ]
  },
  {
   "cell_type": "code",
   "execution_count": 14,
   "metadata": {},
   "outputs": [],
   "source": [
    "plot.add(model_name='Linear Regression', y_test=y_test, y_pred=y_pred)"
   ]
  },
  {
   "cell_type": "code",
   "execution_count": 15,
   "metadata": {},
   "outputs": [
    {
     "data": {
      "image/png": "[encoded data removed]",
      "text/plain": [
       "<Figure size 720x360 with 1 Axes>"
      ]
     },
     "metadata": {},
     "output_type": "display_data"
    }
   ],
   "source": [
    "plot.show(figsize=(10, 5))"
   ]
  },
  {
   "cell_type": "markdown",
   "metadata": {},
   "source": [
    "# Random Forest"
   ]
  },
  {
   "cell_type": "code",
   "execution_count": 16,
   "metadata": {},
   "outputs": [],
   "source": [
    "# Fitting Random Forest model to the dataset\n",
    "from sklearn.ensemble import RandomForestRegressor\n",
    "rfr = RandomForestRegressor(n_estimators=10, random_state=10, n_jobs=-1)\n",
    "rfr.fit(X_train, y_train)\n",
    "\n",
    "# Predicting the yield\n",
    "y_pred = rfr.predict(X_test)"
   ]
  },
  {
   "cell_type": "code",
   "execution_count": 17,
   "metadata": {},
   "outputs": [
    {
     "data": {
      "text/plain": [
       "array([ 2.89,  3.7 , 13.2 ,  3.93, 12.8 , 12.87,  9.37,  8.6 ])"
      ]
     },
     "execution_count": 17,
     "metadata": {},
     "output_type": "execute_result"
    }
   ],
   "source": [
    "y_pred"
   ]
  },
  {
   "cell_type": "code",
   "execution_count": 18,
   "metadata": {},
   "outputs": [
    {
     "data": {
      "text/plain": [
       "(0.6237733436225333, 3.265708192720225)"
      ]
     },
     "execution_count": 18,
     "metadata": {},
     "output_type": "execute_result"
    }
   ],
   "source": [
    "CompareModels.R2AndRMSE(y_test=y_test, y_pred=y_pred)"
   ]
  },
  {
   "cell_type": "code",
   "execution_count": 19,
   "metadata": {},
   "outputs": [
    {
     "data": {
      "image/png": "[encoded data removed]",
      "text/plain": [
       "<Figure size 720x360 with 1 Axes>"
      ]
     },
     "metadata": {},
     "output_type": "display_data"
    }
   ],
   "source": [
    "plot.add('Random Forest', y_test, y_pred)\n",
    "plot.show(figsize=(10, 5))"
   ]
  },
  {
   "cell_type": "markdown",
   "metadata": {},
   "source": [
    "# XGBoost"
   ]
  },
  {
   "cell_type": "code",
   "execution_count": 20,
   "metadata": {},
   "outputs": [],
   "source": [
    "# Fitting XGBoost to the dataset  (reg:squarederror)\n",
    "from xgboost import XGBRegressor\n",
    "xgb = XGBRegressor(n_jobs=4, silent=False, objective='reg:linear',\n",
    "                   max_depth=3, random_state=10, n_estimators=100,\n",
    "                   learning_rate=0.3, verbose=True)\n",
    "xgb.fit(X_train, y_train)\n",
    "\n",
    "# Predicting the yield\n",
    "y_pred = xgb.predict(X_test)"
   ]
  },
  {
   "cell_type": "code",
   "execution_count": 21,
   "metadata": {},
   "outputs": [
    {
     "data": {
      "text/plain": [
       "array([ 4.427578 ,  2.4244852, 13.797996 ,  4.4907336,  9.505842 ,\n",
       "       13.778554 , 10.857733 , 11.541885 ], dtype=float32)"
      ]
     },
     "execution_count": 21,
     "metadata": {},
     "output_type": "execute_result"
    }
   ],
   "source": [
    "y_pred"
   ]
  },
  {
   "cell_type": "code",
   "execution_count": 22,
   "metadata": {},
   "outputs": [
    {
     "data": {
      "text/plain": [
       "(0.7615546933066946, 2.599842168896372)"
      ]
     },
     "execution_count": 22,
     "metadata": {},
     "output_type": "execute_result"
    }
   ],
   "source": [
    "CompareModels.R2AndRMSE(y_test=y_test, y_pred=y_pred)"
   ]
  },
  {
   "cell_type": "code",
   "execution_count": 23,
   "metadata": {},
   "outputs": [
    {
     "data": {
      "image/png": "[encoded data removed]",
      "text/plain": [
       "<Figure size 720x360 with 1 Axes>"
      ]
     },
     "metadata": {},
     "output_type": "display_data"
    }
   ],
   "source": [
    "plot.add('XGBoost', y_test, y_pred)\n",
    "plot.show(figsize=(10, 5))"
   ]
  },
  {
   "cell_type": "markdown",
   "metadata": {},
   "source": [
    "# Symbolic Regression"
   ]
  },
  {
   "cell_type": "code",
   "execution_count": 24,
   "metadata": {},
   "outputs": [
    {
     "name": "stdout",
     "output_type": "stream",
     "text": [
      "    |   Population Average    |             Best Individual              |\n",
      "---- ------------------------- ------------------------------------------ ----------\n",
      " Gen   Length          Fitness   Length          Fitness      OOB Fitness  Time Left\n",
      "   0    24.35          37.5903        7          2.23785              N/A      1.38m\n",
      "   1     8.73          8.03596        7          2.23785              N/A      2.94m\n",
      "   2    10.55          8.61536        7           2.1026              N/A      3.70m\n",
      "   3     8.36          5.36384       35          1.82282              N/A      4.08m\n",
      "   4     8.56          4.19384       35           1.6913              N/A      4.19m\n",
      "   5    13.22          3.99767       35          1.68239              N/A      4.13m\n",
      "   6    30.51          3.94751       31          1.53536              N/A      4.56m\n",
      "   7    36.19          3.45783       43          1.48981              N/A      5.79m\n",
      "   8    37.80          3.50477       27          1.43314              N/A      6.70m\n",
      "   9    40.46          3.35319       77          1.34752              N/A      7.18m\n",
      "  10    43.14          3.50845       51          1.32341              N/A      7.37m\n",
      "  11    47.67          3.55934       91          1.28885              N/A      7.82m\n",
      "  12    57.73          3.10523       91          1.24636              N/A      8.08m\n",
      "  13    58.67          2.82062       91          1.19413              N/A      9.19m\n",
      "  14    63.63           2.7531       85          1.07404              N/A      8.99m\n",
      "  15    77.69          2.56594       59          1.03906              N/A      9.45m\n",
      "  16    81.91          2.38689      117          1.03096              N/A     10.56m\n",
      "  17    76.18          2.43863       85         0.946445              N/A     10.74m\n",
      "  18    68.49           2.7774      173         0.937546              N/A     10.32m\n",
      "  19    76.13          2.56503      135         0.930448              N/A     10.23m\n",
      "  20    86.76           2.2033       85           0.8631              N/A     10.29m\n",
      "  21    75.09           2.3659       89         0.818007              N/A     11.27m\n",
      "  22    78.13          2.18059       89         0.818007              N/A     10.40m\n",
      "  23    85.10          2.25681       89         0.818007              N/A     10.39m\n",
      "  24    86.43          2.32185       97         0.811649              N/A     10.48m\n",
      "  25    85.88          2.13641      103         0.800558              N/A     10.58m\n",
      "  26    86.43          2.18524      171         0.786458              N/A     10.31m\n",
      "  27    77.08          2.42639       89         0.774674              N/A     10.65m\n",
      "  28    77.55          2.48544       89         0.774674              N/A      9.70m\n",
      "  29    79.57          2.47746       89         0.774674              N/A     10.00m\n",
      "  30    77.97          2.46751      169         0.760574              N/A      9.37m\n",
      "  31    80.51          2.36787       89         0.774674              N/A      9.35m\n",
      "  32    84.69          2.14937       87         0.774674              N/A      9.28m\n",
      "  33    85.51          2.22071      165         0.760574              N/A      9.42m\n",
      "  34    85.90          2.06336       85         0.774674              N/A      9.85m\n",
      "  35    84.91          2.22947       85         0.774674              N/A      9.88m\n",
      "  36    82.14          2.30793       79         0.770933              N/A      9.58m\n",
      "  37    80.29          2.18797       83         0.740115              N/A      9.15m\n",
      "  38    80.40          2.24056       83         0.740115              N/A      8.81m\n",
      "  39    79.00          2.29774       81         0.736107              N/A      8.91m\n",
      "  40    78.32          2.26171       81         0.736107              N/A      8.51m\n",
      "  41    83.42          2.21735       81         0.736107              N/A      7.98m\n",
      "  42    82.52          2.20332      115         0.736107              N/A      8.59m\n",
      "  43    81.40          2.08609       83         0.736107              N/A      8.32m\n",
      "  44    83.03          2.23193       83         0.736107              N/A      8.17m\n",
      "  45    83.43          2.12797       83         0.736107              N/A      7.95m\n",
      "  46    81.30          2.23072       81         0.736107              N/A      7.98m\n",
      "  47    79.79          2.13393      151         0.736107              N/A      7.85m\n",
      "  48    79.17          2.35756       79         0.736107              N/A      7.51m\n",
      "  49    79.08          2.27476       79         0.736107              N/A      7.57m\n",
      "  50    78.21          2.24076       79         0.736107              N/A      7.63m\n",
      "  51    77.65          2.28876       79         0.736107              N/A      7.20m\n",
      "  52    78.40          2.27263       85         0.736107              N/A      7.02m\n",
      "  53    75.65          2.40743       75         0.736107              N/A      6.79m\n",
      "  54    73.13          2.53426       75         0.736107              N/A      6.41m\n",
      "  55    74.49          2.44754       73         0.731927              N/A      6.38m\n",
      "  56    73.68           2.5398       73         0.731927              N/A      6.20m\n",
      "  57    73.71          2.40919       73         0.731927              N/A      6.05m\n",
      "  58    73.85          2.33394       73         0.731927              N/A      6.13m\n",
      "  59    73.27          2.44871       73         0.731927              N/A      5.85m\n",
      "  60    73.55          2.29786       73         0.731927              N/A      5.53m\n",
      "  61    73.71          2.25046       73         0.731927              N/A      5.45m\n",
      "  62    74.07          2.53696      107         0.731927              N/A      5.41m\n",
      "  63    72.93          2.34238       73         0.731927              N/A      5.34m\n",
      "  64    72.84           2.3934       73         0.731927              N/A      5.31m\n",
      "  65    73.33          2.29787      107         0.731927              N/A      5.29m\n",
      "  66    73.24          2.47103       73         0.731927              N/A      5.04m\n",
      "  67    71.95          2.41456       73         0.731927              N/A      4.93m\n",
      "  68    71.79          2.49331       73         0.731927              N/A      4.74m\n",
      "  69    74.04          2.33261       73         0.731927              N/A      4.47m\n",
      "  70    73.77          2.37911       73         0.731927              N/A      4.52m\n",
      "  71    73.87          2.35214       73         0.728237              N/A      4.23m\n",
      "  72    74.95          2.19116      115         0.713823              N/A      4.16m\n",
      "  73    72.19          2.44015      115         0.713823              N/A      3.93m\n",
      "  74    74.16          2.37379       73         0.728237              N/A      3.85m\n",
      "  75    71.80          2.39899       73         0.728237              N/A      3.71m\n",
      "  76    73.15          2.56769       73         0.715483              N/A      3.39m\n",
      "  77    73.30           2.3986       73         0.715483              N/A      3.18m\n",
      "  78    71.75          2.32503       73         0.715483              N/A      2.89m\n",
      "  79    74.52          2.43174       77         0.708786              N/A      2.78m\n",
      "  80    74.22          2.18628       77         0.708786              N/A      2.76m\n",
      "  81    71.31          2.34135       75         0.708786              N/A      2.55m\n",
      "  82    75.13          2.21944       73         0.708786              N/A      2.43m\n",
      "  83    74.77          2.41372       77         0.708786              N/A      2.41m\n",
      "  84    74.37          2.44278       77         0.708786              N/A      2.24m\n",
      "  85    72.99          2.14383       73         0.708786              N/A      2.05m\n",
      "  86    75.37          2.33093       73         0.708786              N/A      1.86m\n",
      "  87    72.92          2.15971       73         0.708786              N/A      1.85m\n",
      "  88    71.89          2.50734       73         0.708786              N/A      1.72m\n",
      "  89    72.86          2.25744       73         0.708786              N/A      1.56m\n",
      "  90    72.64          2.49449       73         0.708786              N/A      1.41m\n",
      "  91    74.49          2.30903       73         0.708786              N/A      1.26m\n",
      "  92    73.70          2.42951       73         0.708786              N/A      1.10m\n",
      "  93    73.35            2.518       73         0.708786              N/A     54.77s\n"
     ]
    },
    {
     "name": "stdout",
     "output_type": "stream",
     "text": [
      "  94    74.46          2.41251       73         0.708786              N/A     47.33s\n",
      "  95    72.29          2.52295       73         0.708786              N/A     36.98s\n",
      "  96    73.87          2.37954       73         0.708786              N/A     27.14s\n",
      "  97    74.09          2.40833       73         0.708786              N/A     18.72s\n",
      "  98    72.98          2.27382       73         0.708786              N/A      9.72s\n",
      "  99    73.07          2.29443       73         0.708786              N/A      0.00s\n"
     ]
    }
   ],
   "source": [
    "# Fitting Symbolic Regression model to the dataset\n",
    "# This model may need some parameter tuning\n",
    "from gplearn.genetic import SymbolicRegressor\n",
    "sr = SymbolicRegressor(n_jobs=-1, random_state=10, verbose=1, generations=100,\n",
    "                       function_set=('add', 'sub', 'max'))\n",
    "sr.fit(X_train, y_train)\n",
    "\n",
    "# Predicting the yield\n",
    "y_pred = sr.predict(X_test)"
   ]
  },
  {
   "cell_type": "code",
   "execution_count": 27,
   "metadata": {},
   "outputs": [
    {
     "data": {
      "text/plain": [
       "(0.07130450260122179, 5.130849362223177)"
      ]
     },
     "execution_count": 27,
     "metadata": {},
     "output_type": "execute_result"
    }
   ],
   "source": [
    "CompareModels.R2AndRMSE(y_test=y_test, y_pred=y_pred)"
   ]
  },
  {
   "cell_type": "code",
   "execution_count": 28,
   "metadata": {},
   "outputs": [
    {
     "data": {
      "image/png": "[encoded data removed]",
      "text/plain": [
       "<Figure size 720x360 with 1 Axes>"
      ]
     },
     "metadata": {},
     "output_type": "display_data"
    }
   ],
   "source": [
    "plot.add('Symbolic Regression', y_test, y_pred)\n",
    "plot.show(figsize=(10, 5))"
   ]
  },
  {
   "cell_type": "markdown",
   "metadata": {},
   "source": [
    "# KNN"
   ]
  },
  {
   "cell_type": "code",
   "execution_count": 29,
   "metadata": {},
   "outputs": [],
   "source": [
    "# Fitting KNN model to the dataset\n",
    "from sklearn.neighbors import KNeighborsRegressor\n",
    "knr = KNeighborsRegressor(metric='minkowski', n_neighbors=5, n_jobs=-1)\n",
    "knr.fit(X_train, y_train)\n",
    "\n",
    "# Predicting the yield\n",
    "y_pred = knr.predict(X_test)"
   ]
  },
  {
   "cell_type": "code",
   "execution_count": 30,
   "metadata": {},
   "outputs": [
    {
     "data": {
      "text/plain": [
       "array([ 3.3 ,  3.92, 12.48,  5.8 , 12.48, 12.48,  4.72,  7.3 ])"
      ]
     },
     "execution_count": 30,
     "metadata": {},
     "output_type": "execute_result"
    }
   ],
   "source": [
    "y_pred"
   ]
  },
  {
   "cell_type": "code",
   "execution_count": 31,
   "metadata": {},
   "outputs": [
    {
     "data": {
      "text/plain": [
       "(0.20908389372726255, 4.734976240700686)"
      ]
     },
     "execution_count": 31,
     "metadata": {},
     "output_type": "execute_result"
    }
   ],
   "source": [
    "CompareModels.R2AndRMSE(y_test=y_test, y_pred=y_pred)"
   ]
  },
  {
   "cell_type": "code",
   "execution_count": 32,
   "metadata": {},
   "outputs": [
    {
     "data": {
      "image/png": "[encoded data removed]",
      "text/plain": [
       "<Figure size 720x360 with 1 Axes>"
      ]
     },
     "metadata": {},
     "output_type": "display_data"
    }
   ],
   "source": [
    "plot.add('KNN', y_test, y_pred)\n",
    "plot.show(figsize=(10, 5))"
   ]
  },
  {
   "cell_type": "code",
   "execution_count": 36,
   "metadata": {},
   "outputs": [
    {
     "data": {
      "text/plain": [
       "105"
      ]
     },
     "execution_count": 36,
     "metadata": {},
     "output_type": "execute_result"
    }
   ],
   "source": [
    "X_train.shape[1]"
   ]
  },
  {
   "cell_type": "markdown",
   "metadata": {},
   "source": [
    "# ANN"
   ]
  },
  {
   "cell_type": "code",
   "execution_count": 33,
   "metadata": {},
   "outputs": [
    {
     "name": "stderr",
     "output_type": "stream",
     "text": [
      "/home/ajay/anaconda3/lib/python3.6/site-packages/h5py/__init__.py:36: FutureWarning: Conversion of the second argument of issubdtype from `float` to `np.floating` is deprecated. In future, it will be treated as `np.float64 == np.dtype(float).type`.\n",
      "  from ._conv import register_converters as _register_converters\n",
      "Using TensorFlow backend.\n",
      "/home/ajay/anaconda3/lib/python3.6/site-packages/tensorflow/python/framework/dtypes.py:523: FutureWarning: Passing (type, 1) or '1type' as a synonym of type is deprecated; in a future version of numpy, it will be understood as (type, (1,)) / '(1,)type'.\n",
      "  _np_qint8 = np.dtype([(\"qint8\", np.int8, 1)])\n",
      "/home/ajay/anaconda3/lib/python3.6/site-packages/tensorflow/python/framework/dtypes.py:524: FutureWarning: Passing (type, 1) or '1type' as a synonym of type is deprecated; in a future version of numpy, it will be understood as (type, (1,)) / '(1,)type'.\n",
      "  _np_quint8 = np.dtype([(\"quint8\", np.uint8, 1)])\n",
      "/home/ajay/anaconda3/lib/python3.6/site-packages/tensorflow/python/framework/dtypes.py:525: FutureWarning: Passing (type, 1) or '1type' as a synonym of type is deprecated; in a future version of numpy, it will be understood as (type, (1,)) / '(1,)type'.\n",
      "  _np_qint16 = np.dtype([(\"qint16\", np.int16, 1)])\n",
      "/home/ajay/anaconda3/lib/python3.6/site-packages/tensorflow/python/framework/dtypes.py:526: FutureWarning: Passing (type, 1) or '1type' as a synonym of type is deprecated; in a future version of numpy, it will be understood as (type, (1,)) / '(1,)type'.\n",
      "  _np_quint16 = np.dtype([(\"quint16\", np.uint16, 1)])\n",
      "/home/ajay/anaconda3/lib/python3.6/site-packages/tensorflow/python/framework/dtypes.py:527: FutureWarning: Passing (type, 1) or '1type' as a synonym of type is deprecated; in a future version of numpy, it will be understood as (type, (1,)) / '(1,)type'.\n",
      "  _np_qint32 = np.dtype([(\"qint32\", np.int32, 1)])\n",
      "/home/ajay/anaconda3/lib/python3.6/site-packages/tensorflow/python/framework/dtypes.py:532: FutureWarning: Passing (type, 1) or '1type' as a synonym of type is deprecated; in a future version of numpy, it will be understood as (type, (1,)) / '(1,)type'.\n",
      "  np_resource = np.dtype([(\"resource\", np.ubyte, 1)])\n",
      "/home/ajay/anaconda3/lib/python3.6/site-packages/ipykernel_launcher.py:8: UserWarning: Update your `Dense` call to the Keras 2 API: `Dense(activation=\"relu\", input_dim=105, units=64, kernel_initializer=\"uniform\")`\n",
      "  \n",
      "/home/ajay/anaconda3/lib/python3.6/site-packages/ipykernel_launcher.py:9: UserWarning: Update your `Dense` call to the Keras 2 API: `Dense(activation=\"relu\", units=64, kernel_initializer=\"uniform\")`\n",
      "  if __name__ == '__main__':\n",
      "/home/ajay/anaconda3/lib/python3.6/site-packages/ipykernel_launcher.py:10: UserWarning: Update your `Dense` call to the Keras 2 API: `Dense(activation=\"relu\", units=1, kernel_initializer=\"uniform\")`\n",
      "  # Remove the CWD from sys.path while we load stuff.\n"
     ]
    },
    {
     "name": "stdout",
     "output_type": "stream",
     "text": [
      "Epoch 1/100\n",
      "18/18 [==============================] - 6s 346ms/step - loss: 61.9656 - acc: 0.0000e+00\n",
      "Epoch 2/100\n",
      "18/18 [==============================] - 0s 539us/step - loss: 61.9656 - acc: 0.0000e+00\n",
      "Epoch 3/100\n",
      "18/18 [==============================] - 0s 460us/step - loss: 61.9656 - acc: 0.0000e+00\n",
      "Epoch 4/100\n",
      "18/18 [==============================] - 0s 524us/step - loss: 61.9656 - acc: 0.0000e+00\n",
      "Epoch 5/100\n",
      "18/18 [==============================] - 0s 337us/step - loss: 61.9656 - acc: 0.0000e+00\n",
      "Epoch 6/100\n",
      "18/18 [==============================] - 0s 249us/step - loss: 61.9656 - acc: 0.0000e+00\n",
      "Epoch 7/100\n",
      "18/18 [==============================] - 0s 249us/step - loss: 61.9656 - acc: 0.0000e+00\n",
      "Epoch 8/100\n",
      "18/18 [==============================] - 0s 156us/step - loss: 61.9656 - acc: 0.0000e+00\n",
      "Epoch 9/100\n",
      "18/18 [==============================] - 0s 145us/step - loss: 61.9656 - acc: 0.0000e+00\n",
      "Epoch 10/100\n",
      "18/18 [==============================] - 0s 126us/step - loss: 61.9656 - acc: 0.0000e+00\n",
      "Epoch 11/100\n",
      "18/18 [==============================] - 0s 153us/step - loss: 61.9655 - acc: 0.0000e+00\n",
      "Epoch 12/100\n",
      "18/18 [==============================] - 0s 121us/step - loss: 61.9656 - acc: 0.0000e+00\n",
      "Epoch 13/100\n",
      "18/18 [==============================] - 0s 132us/step - loss: 61.9656 - acc: 0.0000e+00\n",
      "Epoch 14/100\n",
      "18/18 [==============================] - 0s 115us/step - loss: 61.9656 - acc: 0.0000e+00\n",
      "Epoch 15/100\n",
      "18/18 [==============================] - 0s 129us/step - loss: 61.9656 - acc: 0.0000e+00\n",
      "Epoch 16/100\n",
      "18/18 [==============================] - 0s 120us/step - loss: 61.9656 - acc: 0.0000e+00\n",
      "Epoch 17/100\n",
      "18/18 [==============================] - 0s 95us/step - loss: 61.9656 - acc: 0.0000e+00\n",
      "Epoch 18/100\n",
      "18/18 [==============================] - 0s 72us/step - loss: 61.9656 - acc: 0.0000e+00\n",
      "Epoch 19/100\n",
      "18/18 [==============================] - 0s 89us/step - loss: 61.9655 - acc: 0.0000e+00\n",
      "Epoch 20/100\n",
      "18/18 [==============================] - 0s 103us/step - loss: 61.9656 - acc: 0.0000e+00\n",
      "Epoch 21/100\n",
      "18/18 [==============================] - 0s 124us/step - loss: 61.9656 - acc: 0.0000e+00\n",
      "Epoch 22/100\n",
      "18/18 [==============================] - 0s 124us/step - loss: 61.9656 - acc: 0.0000e+00\n",
      "Epoch 23/100\n",
      "18/18 [==============================] - 0s 103us/step - loss: 61.9656 - acc: 0.0000e+00\n",
      "Epoch 24/100\n",
      "18/18 [==============================] - 0s 89us/step - loss: 61.9656 - acc: 0.0000e+00\n",
      "Epoch 25/100\n",
      "18/18 [==============================] - 0s 86us/step - loss: 61.9656 - acc: 0.0000e+00\n",
      "Epoch 26/100\n",
      "18/18 [==============================] - 0s 78us/step - loss: 61.9656 - acc: 0.0000e+00\n",
      "Epoch 27/100\n",
      "18/18 [==============================] - 0s 100us/step - loss: 61.9656 - acc: 0.0000e+00\n",
      "Epoch 28/100\n",
      "18/18 [==============================] - 0s 108us/step - loss: 61.9656 - acc: 0.0000e+00\n",
      "Epoch 29/100\n",
      "18/18 [==============================] - 0s 79us/step - loss: 61.9655 - acc: 0.0000e+00\n",
      "Epoch 30/100\n",
      "18/18 [==============================] - 0s 95us/step - loss: 61.9656 - acc: 0.0000e+00\n",
      "Epoch 31/100\n",
      "18/18 [==============================] - 0s 76us/step - loss: 61.9656 - acc: 0.0000e+00\n",
      "Epoch 32/100\n",
      "18/18 [==============================] - 0s 107us/step - loss: 61.9656 - acc: 0.0000e+00\n",
      "Epoch 33/100\n",
      "18/18 [==============================] - 0s 81us/step - loss: 61.9656 - acc: 0.0000e+00\n",
      "Epoch 34/100\n",
      "18/18 [==============================] - 0s 69us/step - loss: 61.9656 - acc: 0.0000e+00\n",
      "Epoch 35/100\n",
      "18/18 [==============================] - 0s 74us/step - loss: 61.9656 - acc: 0.0000e+00\n",
      "Epoch 36/100\n",
      "18/18 [==============================] - 0s 85us/step - loss: 61.9656 - acc: 0.0000e+00\n",
      "Epoch 37/100\n",
      "18/18 [==============================] - 0s 80us/step - loss: 61.9655 - acc: 0.0000e+00\n",
      "Epoch 38/100\n",
      "18/18 [==============================] - 0s 73us/step - loss: 61.9656 - acc: 0.0000e+00\n",
      "Epoch 39/100\n",
      "18/18 [==============================] - 0s 103us/step - loss: 61.9656 - acc: 0.0000e+00\n",
      "Epoch 40/100\n",
      "18/18 [==============================] - 0s 95us/step - loss: 61.9656 - acc: 0.0000e+00\n",
      "Epoch 41/100\n",
      "18/18 [==============================] - 0s 79us/step - loss: 61.9656 - acc: 0.0000e+00\n",
      "Epoch 42/100\n",
      "18/18 [==============================] - 0s 98us/step - loss: 61.9656 - acc: 0.0000e+00\n",
      "Epoch 43/100\n",
      "18/18 [==============================] - 0s 93us/step - loss: 61.9656 - acc: 0.0000e+00\n",
      "Epoch 44/100\n",
      "18/18 [==============================] - 0s 71us/step - loss: 61.9656 - acc: 0.0000e+00\n",
      "Epoch 45/100\n",
      "18/18 [==============================] - 0s 81us/step - loss: 61.9656 - acc: 0.0000e+00\n",
      "Epoch 46/100\n",
      "18/18 [==============================] - 0s 74us/step - loss: 61.9656 - acc: 0.0000e+00\n",
      "Epoch 47/100\n",
      "18/18 [==============================] - 0s 77us/step - loss: 61.9656 - acc: 0.0000e+00\n",
      "Epoch 48/100\n",
      "18/18 [==============================] - 0s 75us/step - loss: 61.9656 - acc: 0.0000e+00\n",
      "Epoch 49/100\n",
      "18/18 [==============================] - 0s 133us/step - loss: 61.9656 - acc: 0.0000e+00\n",
      "Epoch 50/100\n",
      "18/18 [==============================] - 0s 84us/step - loss: 61.9656 - acc: 0.0000e+00\n",
      "Epoch 51/100\n",
      "18/18 [==============================] - 0s 80us/step - loss: 61.9656 - acc: 0.0000e+00\n",
      "Epoch 52/100\n",
      "18/18 [==============================] - 0s 80us/step - loss: 61.9656 - acc: 0.0000e+00\n",
      "Epoch 53/100\n",
      "18/18 [==============================] - 0s 103us/step - loss: 61.9656 - acc: 0.0000e+00\n",
      "Epoch 54/100\n",
      "18/18 [==============================] - 0s 95us/step - loss: 61.9656 - acc: 0.0000e+00\n",
      "Epoch 55/100\n",
      "18/18 [==============================] - 0s 92us/step - loss: 61.9655 - acc: 0.0000e+00\n",
      "Epoch 56/100\n",
      "18/18 [==============================] - 0s 105us/step - loss: 61.9656 - acc: 0.0000e+00\n",
      "Epoch 57/100\n",
      "18/18 [==============================] - 0s 99us/step - loss: 61.9656 - acc: 0.0000e+00\n",
      "Epoch 58/100\n",
      "18/18 [==============================] - 0s 87us/step - loss: 61.9656 - acc: 0.0000e+00\n",
      "Epoch 59/100\n",
      "18/18 [==============================] - 0s 77us/step - loss: 61.9656 - acc: 0.0000e+00\n",
      "Epoch 60/100\n",
      "18/18 [==============================] - 0s 82us/step - loss: 61.9656 - acc: 0.0000e+00\n",
      "Epoch 61/100\n",
      "18/18 [==============================] - 0s 88us/step - loss: 61.9656 - acc: 0.0000e+00\n",
      "Epoch 62/100\n",
      "18/18 [==============================] - 0s 102us/step - loss: 61.9656 - acc: 0.0000e+00\n",
      "Epoch 63/100\n",
      "18/18 [==============================] - 0s 82us/step - loss: 61.9656 - acc: 0.0000e+00\n",
      "Epoch 64/100\n",
      "18/18 [==============================] - 0s 70us/step - loss: 61.9656 - acc: 0.0000e+00\n",
      "Epoch 65/100\n",
      "18/18 [==============================] - 0s 71us/step - loss: 61.9656 - acc: 0.0000e+00\n",
      "Epoch 66/100\n",
      "18/18 [==============================] - 0s 73us/step - loss: 61.9656 - acc: 0.0000e+00\n",
      "Epoch 67/100\n",
      "18/18 [==============================] - 0s 74us/step - loss: 61.9656 - acc: 0.0000e+00\n",
      "Epoch 68/100\n",
      "18/18 [==============================] - 0s 71us/step - loss: 61.9656 - acc: 0.0000e+00\n",
      "Epoch 69/100\n",
      "18/18 [==============================] - 0s 79us/step - loss: 61.9656 - acc: 0.0000e+00\n",
      "Epoch 70/100\n",
      "18/18 [==============================] - 0s 73us/step - loss: 61.9656 - acc: 0.0000e+00\n",
      "Epoch 71/100\n",
      "18/18 [==============================] - 0s 79us/step - loss: 61.9656 - acc: 0.0000e+00\n",
      "Epoch 72/100\n",
      "18/18 [==============================] - 0s 73us/step - loss: 61.9656 - acc: 0.0000e+00\n",
      "Epoch 73/100\n",
      "18/18 [==============================] - 0s 84us/step - loss: 61.9656 - acc: 0.0000e+00\n",
      "Epoch 74/100\n",
      "18/18 [==============================] - 0s 63us/step - loss: 61.9656 - acc: 0.0000e+00\n",
      "Epoch 75/100\n",
      "18/18 [==============================] - 0s 92us/step - loss: 61.9656 - acc: 0.0000e+00\n",
      "Epoch 76/100\n",
      "18/18 [==============================] - 0s 110us/step - loss: 61.9656 - acc: 0.0000e+00\n",
      "Epoch 77/100\n",
      "18/18 [==============================] - 0s 82us/step - loss: 61.9655 - acc: 0.0000e+00\n",
      "Epoch 78/100\n",
      "18/18 [==============================] - 0s 70us/step - loss: 61.9656 - acc: 0.0000e+00\n",
      "Epoch 79/100\n",
      "18/18 [==============================] - 0s 76us/step - loss: 61.9656 - acc: 0.0000e+00\n",
      "Epoch 80/100\n",
      "18/18 [==============================] - 0s 75us/step - loss: 61.9656 - acc: 0.0000e+00\n",
      "Epoch 81/100\n",
      "18/18 [==============================] - 0s 73us/step - loss: 61.9656 - acc: 0.0000e+00\n"
     ]
    },
    {
     "name": "stdout",
     "output_type": "stream",
     "text": [
      "Epoch 82/100\n",
      "18/18 [==============================] - 0s 72us/step - loss: 61.9656 - acc: 0.0000e+00\n",
      "Epoch 83/100\n",
      "18/18 [==============================] - 0s 76us/step - loss: 61.9656 - acc: 0.0000e+00\n",
      "Epoch 84/100\n",
      "18/18 [==============================] - 0s 99us/step - loss: 61.9656 - acc: 0.0000e+00\n",
      "Epoch 85/100\n",
      "18/18 [==============================] - 0s 135us/step - loss: 61.9655 - acc: 0.0000e+00\n",
      "Epoch 86/100\n",
      "18/18 [==============================] - 0s 100us/step - loss: 61.9656 - acc: 0.0000e+00\n",
      "Epoch 87/100\n",
      "18/18 [==============================] - 0s 100us/step - loss: 61.9656 - acc: 0.0000e+00\n",
      "Epoch 88/100\n",
      "18/18 [==============================] - 0s 78us/step - loss: 61.9656 - acc: 0.0000e+00\n",
      "Epoch 89/100\n",
      "18/18 [==============================] - 0s 81us/step - loss: 61.9656 - acc: 0.0000e+00\n",
      "Epoch 90/100\n",
      "18/18 [==============================] - 0s 76us/step - loss: 61.9656 - acc: 0.0000e+00\n",
      "Epoch 91/100\n",
      "18/18 [==============================] - 0s 72us/step - loss: 61.9656 - acc: 0.0000e+00\n",
      "Epoch 92/100\n",
      "18/18 [==============================] - 0s 104us/step - loss: 61.9656 - acc: 0.0000e+00\n",
      "Epoch 93/100\n",
      "18/18 [==============================] - 0s 70us/step - loss: 61.9656 - acc: 0.0000e+00\n",
      "Epoch 94/100\n",
      "18/18 [==============================] - 0s 76us/step - loss: 61.9655 - acc: 0.0000e+00\n",
      "Epoch 95/100\n",
      "18/18 [==============================] - 0s 66us/step - loss: 61.9655 - acc: 0.0000e+00\n",
      "Epoch 96/100\n",
      "18/18 [==============================] - 0s 72us/step - loss: 61.9656 - acc: 0.0000e+00\n",
      "Epoch 97/100\n",
      "18/18 [==============================] - 0s 83us/step - loss: 61.9656 - acc: 0.0000e+00\n",
      "Epoch 98/100\n",
      "18/18 [==============================] - 0s 92us/step - loss: 61.9655 - acc: 0.0000e+00\n",
      "Epoch 99/100\n",
      "18/18 [==============================] - 0s 86us/step - loss: 61.9656 - acc: 0.0000e+00\n",
      "Epoch 100/100\n",
      "18/18 [==============================] - 0s 80us/step - loss: 61.9656 - acc: 0.0000e+00\n"
     ]
    }
   ],
   "source": [
    "from keras.models import Sequential\n",
    "from keras.layers import Dense\n",
    "\n",
    "ann = Sequential()\n",
    "input_dim = X_train.shape[1]\n",
    "output_dim = 64\n",
    "\n",
    "ann.add(Dense(output_dim=output_dim, init='uniform', activation='relu', input_dim=input_dim))\n",
    "ann.add(Dense(output_dim=output_dim, init='uniform', activation='relu'))\n",
    "ann.add(Dense(output_dim=1, init='uniform', activation='relu'))\n",
    "\n",
    "ann.compile(optimizer='adam', loss='mean_squared_error', metrics=['accuracy'])\n",
    "ann.fit(X_train, y_train, batch_size=100, epochs=100)\n",
    "\n",
    "# Predicting the yield\n",
    "y_pred = ann.predict(X_test)"
   ]
  },
  {
   "cell_type": "code",
   "execution_count": 34,
   "metadata": {},
   "outputs": [
    {
     "data": {
      "text/plain": [
       "array([[0.],\n",
       "       [0.],\n",
       "       [0.],\n",
       "       [0.],\n",
       "       [0.],\n",
       "       [0.],\n",
       "       [0.],\n",
       "       [0.]], dtype=float32)"
      ]
     },
     "execution_count": 34,
     "metadata": {},
     "output_type": "execute_result"
    }
   ],
   "source": [
    "y_pred"
   ]
  },
  {
   "cell_type": "code",
   "execution_count": 39,
   "metadata": {},
   "outputs": [
    {
     "data": {
      "text/plain": [
       "(-3.545386396207695, 11.351101268158962)"
      ]
     },
     "execution_count": 39,
     "metadata": {},
     "output_type": "execute_result"
    }
   ],
   "source": [
    "CompareModels.R2AndRMSE(y_test=y_test, y_pred=y_pred)"
   ]
  },
  {
   "cell_type": "code",
   "execution_count": null,
   "metadata": {},
   "outputs": [],
   "source": [
    "plot.add('ANN', y_test, y_pred)\n",
    "plot.show(figsize=(10, 5))"
   ]
  },
  {
   "cell_type": "markdown",
   "metadata": {},
   "source": [
    "# RNN"
   ]
  },
  {
   "cell_type": "code",
   "execution_count": 41,
   "metadata": {},
   "outputs": [
    {
     "name": "stdout",
     "output_type": "stream",
     "text": [
      "Epoch 1/100\n",
      "18/18 [==============================] - 1s 41ms/step - loss: 61.9297 - acc: 0.0000e+00\n",
      "Epoch 2/100\n",
      "18/18 [==============================] - 0s 5ms/step - loss: 61.8504 - acc: 0.0000e+00\n",
      "Epoch 3/100\n",
      "18/18 [==============================] - 0s 5ms/step - loss: 61.7275 - acc: 0.0000e+00\n",
      "Epoch 4/100\n",
      "18/18 [==============================] - 0s 5ms/step - loss: 61.6842 - acc: 0.0000e+00\n",
      "Epoch 5/100\n",
      "18/18 [==============================] - 0s 5ms/step - loss: 61.4279 - acc: 0.0000e+00\n",
      "Epoch 6/100\n",
      "18/18 [==============================] - 0s 5ms/step - loss: 61.3116 - acc: 0.0000e+00\n",
      "Epoch 7/100\n",
      "18/18 [==============================] - 0s 5ms/step - loss: 61.2492 - acc: 0.0000e+00\n",
      "Epoch 8/100\n",
      "18/18 [==============================] - 0s 5ms/step - loss: 60.9274 - acc: 0.0000e+00\n",
      "Epoch 9/100\n",
      "18/18 [==============================] - 0s 5ms/step - loss: 60.6039 - acc: 0.0000e+00\n",
      "Epoch 10/100\n",
      "18/18 [==============================] - 0s 5ms/step - loss: 60.2984 - acc: 0.0000e+00\n",
      "Epoch 11/100\n",
      "18/18 [==============================] - 0s 5ms/step - loss: 59.8076 - acc: 0.0000e+00\n",
      "Epoch 12/100\n",
      "18/18 [==============================] - 0s 5ms/step - loss: 59.6891 - acc: 0.0000e+00\n",
      "Epoch 13/100\n",
      "18/18 [==============================] - 0s 5ms/step - loss: 59.0422 - acc: 0.0000e+00\n",
      "Epoch 14/100\n",
      "18/18 [==============================] - 0s 5ms/step - loss: 58.8786 - acc: 0.0000e+00\n",
      "Epoch 15/100\n",
      "18/18 [==============================] - 0s 5ms/step - loss: 57.7220 - acc: 0.0000e+00\n",
      "Epoch 16/100\n",
      "18/18 [==============================] - 0s 5ms/step - loss: 55.6412 - acc: 0.0000e+00\n",
      "Epoch 17/100\n",
      "18/18 [==============================] - 0s 5ms/step - loss: 53.5905 - acc: 0.0000e+00\n",
      "Epoch 18/100\n",
      "18/18 [==============================] - 0s 5ms/step - loss: 51.0608 - acc: 0.0000e+00\n",
      "Epoch 19/100\n",
      "18/18 [==============================] - 0s 5ms/step - loss: 44.1769 - acc: 0.0000e+00\n",
      "Epoch 20/100\n",
      "18/18 [==============================] - 0s 5ms/step - loss: 36.8276 - acc: 0.0000e+00\n",
      "Epoch 21/100\n",
      "18/18 [==============================] - 0s 5ms/step - loss: 30.7130 - acc: 0.0000e+00\n",
      "Epoch 22/100\n",
      "18/18 [==============================] - 0s 5ms/step - loss: 31.4200 - acc: 0.0000e+00\n",
      "Epoch 23/100\n",
      "18/18 [==============================] - 0s 5ms/step - loss: 22.2730 - acc: 0.0000e+00\n",
      "Epoch 24/100\n",
      "18/18 [==============================] - 0s 5ms/step - loss: 29.9149 - acc: 0.0000e+00\n",
      "Epoch 25/100\n",
      "18/18 [==============================] - 0s 5ms/step - loss: 24.4534 - acc: 0.0000e+00\n",
      "Epoch 26/100\n",
      "18/18 [==============================] - 0s 5ms/step - loss: 21.5832 - acc: 0.0000e+00\n",
      "Epoch 27/100\n",
      "18/18 [==============================] - 0s 5ms/step - loss: 22.0053 - acc: 0.0000e+00\n",
      "Epoch 28/100\n",
      "18/18 [==============================] - 0s 5ms/step - loss: 23.7509 - acc: 0.0000e+00\n",
      "Epoch 29/100\n",
      "18/18 [==============================] - 0s 5ms/step - loss: 15.5365 - acc: 0.0000e+00\n",
      "Epoch 30/100\n",
      "18/18 [==============================] - 0s 5ms/step - loss: 18.8001 - acc: 0.0000e+00\n",
      "Epoch 31/100\n",
      "18/18 [==============================] - 0s 5ms/step - loss: 19.8537 - acc: 0.0000e+00\n",
      "Epoch 32/100\n",
      "18/18 [==============================] - 0s 5ms/step - loss: 20.6508 - acc: 0.0000e+00\n",
      "Epoch 33/100\n",
      "18/18 [==============================] - 0s 5ms/step - loss: 23.1609 - acc: 0.0000e+00\n",
      "Epoch 34/100\n",
      "18/18 [==============================] - 0s 5ms/step - loss: 14.3687 - acc: 0.0000e+00\n",
      "Epoch 35/100\n",
      "18/18 [==============================] - 0s 5ms/step - loss: 18.8455 - acc: 0.0000e+00\n",
      "Epoch 36/100\n",
      "18/18 [==============================] - 0s 5ms/step - loss: 18.9665 - acc: 0.0000e+00\n",
      "Epoch 37/100\n",
      "18/18 [==============================] - 0s 5ms/step - loss: 15.1095 - acc: 0.0000e+00\n",
      "Epoch 38/100\n",
      "18/18 [==============================] - 0s 5ms/step - loss: 20.0848 - acc: 0.0000e+00\n",
      "Epoch 39/100\n",
      "18/18 [==============================] - 0s 5ms/step - loss: 20.4543 - acc: 0.0000e+00\n",
      "Epoch 40/100\n",
      "18/18 [==============================] - 0s 5ms/step - loss: 23.5713 - acc: 0.0000e+00\n",
      "Epoch 41/100\n",
      "18/18 [==============================] - 0s 5ms/step - loss: 15.6245 - acc: 0.0000e+00\n",
      "Epoch 42/100\n",
      "18/18 [==============================] - 0s 5ms/step - loss: 22.8946 - acc: 0.0000e+00\n",
      "Epoch 43/100\n",
      "18/18 [==============================] - 0s 5ms/step - loss: 19.6028 - acc: 0.0000e+00\n",
      "Epoch 44/100\n",
      "18/18 [==============================] - 0s 5ms/step - loss: 29.9214 - acc: 0.0000e+00\n",
      "Epoch 45/100\n",
      "18/18 [==============================] - 0s 5ms/step - loss: 25.4677 - acc: 0.0000e+00\n",
      "Epoch 46/100\n",
      "18/18 [==============================] - 0s 5ms/step - loss: 18.3741 - acc: 0.0000e+00\n",
      "Epoch 47/100\n",
      "18/18 [==============================] - 0s 5ms/step - loss: 20.8159 - acc: 0.0000e+00\n",
      "Epoch 48/100\n",
      "18/18 [==============================] - 0s 5ms/step - loss: 21.6404 - acc: 0.0000e+00\n",
      "Epoch 49/100\n",
      "18/18 [==============================] - 0s 5ms/step - loss: 15.3897 - acc: 0.0000e+00\n",
      "Epoch 50/100\n",
      "18/18 [==============================] - 0s 5ms/step - loss: 24.5073 - acc: 0.0000e+00\n",
      "Epoch 51/100\n",
      "18/18 [==============================] - 0s 5ms/step - loss: 18.5449 - acc: 0.0000e+00\n",
      "Epoch 52/100\n",
      "18/18 [==============================] - 0s 5ms/step - loss: 20.8576 - acc: 0.0000e+00\n",
      "Epoch 53/100\n",
      "18/18 [==============================] - 0s 5ms/step - loss: 23.1087 - acc: 0.0000e+00\n",
      "Epoch 54/100\n",
      "18/18 [==============================] - 0s 5ms/step - loss: 20.2105 - acc: 0.0000e+00\n",
      "Epoch 55/100\n",
      "18/18 [==============================] - 0s 5ms/step - loss: 21.4214 - acc: 0.0000e+00\n",
      "Epoch 56/100\n",
      "18/18 [==============================] - 0s 5ms/step - loss: 15.5646 - acc: 0.0000e+00\n",
      "Epoch 57/100\n",
      "18/18 [==============================] - 0s 5ms/step - loss: 18.9153 - acc: 0.0000e+00\n",
      "Epoch 58/100\n",
      "18/18 [==============================] - 0s 5ms/step - loss: 16.4999 - acc: 0.0000e+00\n",
      "Epoch 59/100\n",
      "18/18 [==============================] - 0s 5ms/step - loss: 25.7232 - acc: 0.0000e+00\n",
      "Epoch 60/100\n",
      "18/18 [==============================] - 0s 5ms/step - loss: 22.2254 - acc: 0.0000e+00\n",
      "Epoch 61/100\n",
      "18/18 [==============================] - 0s 5ms/step - loss: 20.3859 - acc: 0.0000e+00\n",
      "Epoch 62/100\n",
      "18/18 [==============================] - 0s 5ms/step - loss: 17.6242 - acc: 0.0000e+00\n",
      "Epoch 63/100\n",
      "18/18 [==============================] - 0s 5ms/step - loss: 20.5110 - acc: 0.0000e+00\n",
      "Epoch 64/100\n",
      "18/18 [==============================] - 0s 5ms/step - loss: 20.0872 - acc: 0.0000e+00\n",
      "Epoch 65/100\n",
      "18/18 [==============================] - 0s 5ms/step - loss: 21.5224 - acc: 0.0000e+00\n",
      "Epoch 66/100\n",
      "18/18 [==============================] - 0s 5ms/step - loss: 19.2681 - acc: 0.0000e+00\n",
      "Epoch 67/100\n",
      "18/18 [==============================] - 0s 5ms/step - loss: 19.9580 - acc: 0.0000e+00\n",
      "Epoch 68/100\n",
      "18/18 [==============================] - 0s 5ms/step - loss: 21.2889 - acc: 0.0000e+00\n",
      "Epoch 69/100\n",
      "18/18 [==============================] - 0s 5ms/step - loss: 19.1310 - acc: 0.0000e+00\n",
      "Epoch 70/100\n",
      "18/18 [==============================] - 0s 5ms/step - loss: 18.2889 - acc: 0.0000e+00\n",
      "Epoch 71/100\n",
      "18/18 [==============================] - 0s 5ms/step - loss: 18.0683 - acc: 0.0000e+00\n",
      "Epoch 72/100\n",
      "18/18 [==============================] - 0s 5ms/step - loss: 17.2452 - acc: 0.0000e+00\n",
      "Epoch 73/100\n",
      "18/18 [==============================] - 0s 5ms/step - loss: 22.0144 - acc: 0.0000e+00\n",
      "Epoch 74/100\n",
      "18/18 [==============================] - 0s 5ms/step - loss: 20.6982 - acc: 0.0000e+00\n",
      "Epoch 75/100\n",
      "18/18 [==============================] - 0s 5ms/step - loss: 14.5935 - acc: 0.0000e+00\n",
      "Epoch 76/100\n",
      "18/18 [==============================] - 0s 5ms/step - loss: 18.1227 - acc: 0.0000e+00\n",
      "Epoch 77/100\n",
      "18/18 [==============================] - 0s 5ms/step - loss: 18.7057 - acc: 0.0000e+00\n",
      "Epoch 78/100\n",
      "18/18 [==============================] - 0s 5ms/step - loss: 24.1814 - acc: 0.0000e+00\n",
      "Epoch 79/100\n",
      "18/18 [==============================] - 0s 5ms/step - loss: 22.5387 - acc: 0.0000e+00\n",
      "Epoch 80/100\n",
      "18/18 [==============================] - 0s 5ms/step - loss: 21.9161 - acc: 0.0000e+00\n",
      "Epoch 81/100\n",
      "18/18 [==============================] - 0s 5ms/step - loss: 20.1216 - acc: 0.0000e+00\n",
      "Epoch 82/100\n",
      "18/18 [==============================] - 0s 5ms/step - loss: 23.3056 - acc: 0.0000e+00\n",
      "Epoch 83/100\n"
     ]
    },
    {
     "name": "stdout",
     "output_type": "stream",
     "text": [
      "18/18 [==============================] - 0s 5ms/step - loss: 23.8262 - acc: 0.0000e+00\n",
      "Epoch 84/100\n",
      "18/18 [==============================] - 0s 5ms/step - loss: 19.3827 - acc: 0.0000e+00\n",
      "Epoch 85/100\n",
      "18/18 [==============================] - 0s 5ms/step - loss: 15.9834 - acc: 0.0000e+00\n",
      "Epoch 86/100\n",
      "18/18 [==============================] - 0s 5ms/step - loss: 16.5633 - acc: 0.0000e+00\n",
      "Epoch 87/100\n",
      "18/18 [==============================] - 0s 5ms/step - loss: 27.0418 - acc: 0.0000e+00\n",
      "Epoch 88/100\n",
      "18/18 [==============================] - 0s 5ms/step - loss: 15.7833 - acc: 0.0000e+00\n",
      "Epoch 89/100\n",
      "18/18 [==============================] - 0s 5ms/step - loss: 18.8904 - acc: 0.0000e+00\n",
      "Epoch 90/100\n",
      "18/18 [==============================] - 0s 5ms/step - loss: 21.7381 - acc: 0.0000e+00\n",
      "Epoch 91/100\n",
      "18/18 [==============================] - 0s 5ms/step - loss: 20.4371 - acc: 0.0000e+00\n",
      "Epoch 92/100\n",
      "18/18 [==============================] - 0s 5ms/step - loss: 15.1898 - acc: 0.0000e+00\n",
      "Epoch 93/100\n",
      "18/18 [==============================] - 0s 5ms/step - loss: 17.0376 - acc: 0.0000e+00\n",
      "Epoch 94/100\n",
      "18/18 [==============================] - 0s 5ms/step - loss: 18.0525 - acc: 0.0000e+00\n",
      "Epoch 95/100\n",
      "18/18 [==============================] - 0s 5ms/step - loss: 20.8579 - acc: 0.0000e+00\n",
      "Epoch 96/100\n",
      "18/18 [==============================] - 0s 5ms/step - loss: 22.0426 - acc: 0.0000e+00\n",
      "Epoch 97/100\n",
      "18/18 [==============================] - 0s 5ms/step - loss: 19.0736 - acc: 0.0000e+00\n",
      "Epoch 98/100\n",
      "18/18 [==============================] - 0s 5ms/step - loss: 19.8893 - acc: 0.0000e+00\n",
      "Epoch 99/100\n",
      "18/18 [==============================] - 0s 5ms/step - loss: 18.3283 - acc: 0.0000e+00\n",
      "Epoch 100/100\n",
      "18/18 [==============================] - 0s 5ms/step - loss: 20.4574 - acc: 0.0000e+00\n"
     ]
    }
   ],
   "source": [
    "from keras.models import Sequential\n",
    "from keras.layers import LSTM, Dense, Dropout, Masking, Embedding\n",
    "\n",
    "rnn = Sequential()\n",
    "input_dim = X_train.shape[1]\n",
    "\n",
    "# Embedding layer\n",
    "rnn.add(\n",
    "    Embedding(input_dim=input_dim,\n",
    "              output_dim=100,\n",
    "              trainable=False,\n",
    "              mask_zero=True)\n",
    ")\n",
    "\n",
    "# Masking layer for pre-trained embeddings\n",
    "rnn.add(Masking(mask_value=0.0))\n",
    "\n",
    "# Recurrent layer\n",
    "rnn.add(LSTM(64, return_sequences=False, \n",
    "               dropout=0.1, recurrent_dropout=0.1))\n",
    "\n",
    "# Fully connected layer\n",
    "rnn.add(Dense(64, activation='relu'))\n",
    "\n",
    "# Dropout for regularization\n",
    "rnn.add(Dropout(0.5))\n",
    "\n",
    "# Output layer\n",
    "rnn.add(Dense(1, activation='relu'))\n",
    "\n",
    "# Compile the model\n",
    "rnn.compile(optimizer='adam', loss='mean_squared_error', metrics=['accuracy'])\n",
    "\n",
    "rnn.fit(X_train, y_train, batch_size=100, epochs=100)\n",
    "\n",
    "# Predicting the yield\n",
    "y_pred = rnn.predict(X_test)"
   ]
  },
  {
   "cell_type": "code",
   "execution_count": 42,
   "metadata": {},
   "outputs": [
    {
     "data": {
      "text/plain": [
       "array([[6.1389894],\n",
       "       [6.2298346],\n",
       "       [6.5909   ],\n",
       "       [6.307469 ],\n",
       "       [6.4633956],\n",
       "       [6.4633827],\n",
       "       [6.2528725],\n",
       "       [6.446525 ]], dtype=float32)"
      ]
     },
     "execution_count": 42,
     "metadata": {},
     "output_type": "execute_result"
    }
   ],
   "source": [
    "y_pred"
   ]
  },
  {
   "cell_type": "code",
   "execution_count": 44,
   "metadata": {},
   "outputs": [
    {
     "data": {
      "text/plain": [
       "(-0.4368329078803572, 6.381984239683689)"
      ]
     },
     "execution_count": 44,
     "metadata": {},
     "output_type": "execute_result"
    }
   ],
   "source": [
    "CompareModels.R2AndRMSE(y_test=y_test, y_pred=y_pred)"
   ]
  },
  {
   "cell_type": "code",
   "execution_count": null,
   "metadata": {},
   "outputs": [],
   "source": [
    "plot.add('RNN', y_test, y_pred)\n",
    "plot.show(figsize=(10, 5))"
   ]
  },
  {
   "cell_type": "markdown",
   "metadata": {},
   "source": [
    "# Lasso"
   ]
  },
  {
   "cell_type": "code",
   "execution_count": 46,
   "metadata": {},
   "outputs": [],
   "source": [
    "# Fitting training set to lasso regression model\n",
    "from sklearn.linear_model import Lasso\n",
    "ls = LinearRegression()\n",
    "ls.fit(X_train, y_train)\n",
    "\n",
    "# Predicting the yield\n",
    "y_pred = lr.predict(X_test)"
   ]
  },
  {
   "cell_type": "code",
   "execution_count": 47,
   "metadata": {},
   "outputs": [
    {
     "data": {
      "text/plain": [
       "array([ 0.71459666, -0.78076838, 14.89467853,  2.84436842, 15.53985106,\n",
       "       11.66117682, 14.24309481,  7.23954939])"
      ]
     },
     "execution_count": 47,
     "metadata": {},
     "output_type": "execute_result"
    }
   ],
   "source": [
    "y_pred"
   ]
  },
  {
   "cell_type": "code",
   "execution_count": 48,
   "metadata": {},
   "outputs": [
    {
     "data": {
      "text/plain": [
       "(0.5349811362171855, 3.630679220792367)"
      ]
     },
     "execution_count": 48,
     "metadata": {},
     "output_type": "execute_result"
    }
   ],
   "source": [
    "CompareModels.R2AndRMSE(y_test=y_test, y_pred=y_pred)"
   ]
  },
  {
   "cell_type": "code",
   "execution_count": 49,
   "metadata": {},
   "outputs": [
    {
     "data": {
      "image/png": "[encoded data removed]",
      "text/plain": [
       "<Figure size 720x360 with 1 Axes>"
      ]
     },
     "metadata": {},
     "output_type": "display_data"
    }
   ],
   "source": [
    "plot.add('Lasso', y_test, y_pred)\n",
    "plot.show(figsize=(10, 5))"
   ]
  },
  {
   "cell_type": "markdown",
   "metadata": {},
   "source": [
    "# SVR"
   ]
  },
  {
   "cell_type": "code",
   "execution_count": 50,
   "metadata": {},
   "outputs": [
    {
     "name": "stderr",
     "output_type": "stream",
     "text": [
      "/home/ajay/anaconda3/lib/python3.6/site-packages/sklearn/svm/base.py:193: FutureWarning: The default value of gamma will change from 'auto' to 'scale' in version 0.22 to account better for unscaled features. Set gamma explicitly to 'auto' or 'scale' to avoid this warning.\n",
      "  \"avoid this warning.\", FutureWarning)\n"
     ]
    }
   ],
   "source": [
    "# Fitting training set to SVR\n",
    "from sklearn.svm import SVR\n",
    "svr = SVR(kernel='rbf')\n",
    "svr.fit(X_train, y_train)\n",
    "\n",
    "# Predicting the yield\n",
    "y_pred = lr.predict(X_test)"
   ]
  },
  {
   "cell_type": "code",
   "execution_count": 51,
   "metadata": {},
   "outputs": [
    {
     "data": {
      "text/plain": [
       "array([ 0.71459666, -0.78076838, 14.89467853,  2.84436842, 15.53985106,\n",
       "       11.66117682, 14.24309481,  7.23954939])"
      ]
     },
     "execution_count": 51,
     "metadata": {},
     "output_type": "execute_result"
    }
   ],
   "source": [
    "y_pred"
   ]
  },
  {
   "cell_type": "code",
   "execution_count": 52,
   "metadata": {},
   "outputs": [
    {
     "data": {
      "text/plain": [
       "(0.5349811362171855, 3.630679220792367)"
      ]
     },
     "execution_count": 52,
     "metadata": {},
     "output_type": "execute_result"
    }
   ],
   "source": [
    "CompareModels.R2AndRMSE(y_test=y_test, y_pred=y_pred)"
   ]
  },
  {
   "cell_type": "code",
   "execution_count": 53,
   "metadata": {},
   "outputs": [
    {
     "data": {
      "image/png": "[encoded data removed]",
      "text/plain": [
       "<Figure size 720x360 with 1 Axes>"
      ]
     },
     "metadata": {},
     "output_type": "display_data"
    }
   ],
   "source": [
    "plot.add('SVR', y_test, y_pred)\n",
    "plot.show(figsize=(10, 5))"
   ]
  },
  {
   "cell_type": "markdown",
   "metadata": {},
   "source": [
    "# Voting Regression"
   ]
  },
  {
   "cell_type": "code",
   "execution_count": 54,
   "metadata": {},
   "outputs": [],
   "source": [
    "# Fitting training set to voting regression model\n",
    "from sklearn.ensemble import VotingRegressor\n",
    "vr = VotingRegressor(estimators=[('LinReg', lr),\n",
    "                                 ('RanFor', rfr),\n",
    "                                 ('XGBoost', xgb)\n",
    "                                ],\n",
    "                     n_jobs=-1,\n",
    "                     weights=[4, 2, 3])\n",
    "vr.fit(X_train, y_train)\n",
    "\n",
    "# Predicting the yield\n",
    "y_pred = vr.predict(X_test)"
   ]
  },
  {
   "cell_type": "code",
   "execution_count": 55,
   "metadata": {},
   "outputs": [
    {
     "data": {
      "text/plain": [
       "array([ 2.43568006,  1.28337579, 14.15252231,  3.63440828, 12.91965899,\n",
       "       12.63559657, 12.03173084,  8.97598374])"
      ]
     },
     "execution_count": 55,
     "metadata": {},
     "output_type": "execute_result"
    }
   ],
   "source": [
    "y_pred"
   ]
  },
  {
   "cell_type": "code",
   "execution_count": 56,
   "metadata": {},
   "outputs": [
    {
     "data": {
      "text/plain": [
       "(0.7313161053912327, 2.759773319493451)"
      ]
     },
     "execution_count": 56,
     "metadata": {},
     "output_type": "execute_result"
    }
   ],
   "source": [
    "CompareModels.R2AndRMSE(y_test=y_test, y_pred=y_pred)"
   ]
  },
  {
   "cell_type": "code",
   "execution_count": 57,
   "metadata": {},
   "outputs": [
    {
     "data": {
      "image/png": "[encoded data removed]",
      "text/plain": [
       "<Figure size 720x360 with 1 Axes>"
      ]
     },
     "metadata": {},
     "output_type": "display_data"
    }
   ],
   "source": [
    "plot.add('Voting Regression', y_test, y_pred)\n",
    "plot.show(figsize=(10, 5))"
   ]
  },
  {
   "cell_type": "markdown",
   "metadata": {},
   "source": [
    "# test data to predict OM"
   ]
  },
  {
   "cell_type": "code",
   "execution_count": 59,
   "metadata": {},
   "outputs": [
    {
     "data": {
      "text/plain": [
       "VotingRegressor(estimators=[('LinReg',\n",
       "                             LinearRegression(copy_X=True, fit_intercept=True,\n",
       "                                              n_jobs=-1, normalize=False)),\n",
       "                            ('RanFor',\n",
       "                             RandomForestRegressor(bootstrap=True,\n",
       "                                                   criterion='mse',\n",
       "                                                   max_depth=None,\n",
       "                                                   max_features='auto',\n",
       "                                                   max_leaf_nodes=None,\n",
       "                                                   min_impurity_decrease=0.0,\n",
       "                                                   min_impurity_split=None,\n",
       "                                                   min_samples_leaf=1,\n",
       "                                                   min_samples_split=2,\n",
       "                                                   min_weight_fraction_leaf=0.0,...\n",
       "                             XGBRegressor(base_score=0.5, booster='gbtree',\n",
       "                                          colsample_bylevel=1,\n",
       "                                          colsample_bytree=1, gamma=0,\n",
       "                                          importance_type='gain',\n",
       "                                          learning_rate=0.3, max_delta_step=0,\n",
       "                                          max_depth=3, min_child_weight=1,\n",
       "                                          missing=None, n_estimators=100,\n",
       "                                          n_jobs=4, nthread=None,\n",
       "                                          objective='reg:linear',\n",
       "                                          random_state=10, reg_alpha=0,\n",
       "                                          reg_lambda=1, scale_pos_weight=1,\n",
       "                                          seed=None, silent=False, subsample=1,\n",
       "                                          verbose=True))],\n",
       "                n_jobs=-1, weights=[4, 2, 3])"
      ]
     },
     "execution_count": 59,
     "metadata": {},
     "output_type": "execute_result"
    }
   ],
   "source": [
    "# Training Voting Regression model again\n",
    "# with the whole training data for\n",
    "# test predictions\n",
    "# Fitting training set to voting regression model\n",
    "from sklearn.ensemble import VotingRegressor\n",
    "vr = VotingRegressor(estimators=[('LinReg', lr),\n",
    "                                 ('RanFor', rfr),\n",
    "                                 ('XGBoost', xgb)\n",
    "                                ],\n",
    "                     n_jobs=-1,\n",
    "                     weights=[4, 2, 3])\n",
    "vr.fit(X, y)"
   ]
  },
  {
   "cell_type": "code",
   "execution_count": 63,
   "metadata": {},
   "outputs": [],
   "source": [
    "# Predict the yield for test data (Voting Regression model)\n",
    "test = vr.predict(X_test)"
   ]
  },
  {
   "cell_type": "code",
   "execution_count": 65,
   "metadata": {},
   "outputs": [
    {
     "data": {
      "text/plain": [
       "array([ 2.71992388,  2.44693389, 12.66448062,  4.68420434, 13.49998188,\n",
       "       13.50006008, 14.18448857, 15.49056993])"
      ]
     },
     "execution_count": 65,
     "metadata": {},
     "output_type": "execute_result"
    }
   ],
   "source": [
    "test"
   ]
  },
  {
   "cell_type": "code",
   "execution_count": 69,
   "metadata": {},
   "outputs": [
    {
     "name": "stdout",
     "output_type": "stream",
     "text": [
      "9.898830398850954\n"
     ]
    }
   ],
   "source": [
    "print(test.mean())"
   ]
  },
  {
   "cell_type": "code",
   "execution_count": 66,
   "metadata": {},
   "outputs": [
    {
     "data": {
      "text/plain": [
       "array([ 2.7,  2.4, 12.7,  4.8, 13.5, 13.5, 14.7, 15.9])"
      ]
     },
     "execution_count": 66,
     "metadata": {},
     "output_type": "execute_result"
    }
   ],
   "source": [
    "y_test"
   ]
  },
  {
   "cell_type": "code",
   "execution_count": 70,
   "metadata": {},
   "outputs": [
    {
     "name": "stdout",
     "output_type": "stream",
     "text": [
      "10.025\n"
     ]
    }
   ],
   "source": [
    "print(y_test.mean())"
   ]
  },
  {
   "cell_type": "code",
   "execution_count": 68,
   "metadata": {},
   "outputs": [
    {
     "name": "stdout",
     "output_type": "stream",
     "text": [
      "Mean absolute unsigned error 0.14289906329579183\n"
     ]
    }
   ],
   "source": [
    "import numpy as np\n",
    "err = np.abs(np.abs(y_test) - np.abs(test)).mean()\n",
    "print(\"Mean absolute unsigned error {}\" .format(err))"
   ]
  },
  {
   "cell_type": "code",
   "execution_count": 71,
   "metadata": {},
   "outputs": [
    {
     "data": {
      "text/plain": [
       "0.1349999999999998"
      ]
     },
     "execution_count": 71,
     "metadata": {},
     "output_type": "execute_result"
    }
   ],
   "source": [
    "10.025 - 9.89"
   ]
  },
  {
   "cell_type": "markdown",
   "metadata": {},
   "source": [
    "# House Pricing dataset"
   ]
  },
  {
   "cell_type": "code",
   "execution_count": 73,
   "metadata": {},
   "outputs": [
    {
     "data": {
      "text/html": [
       "<div>\n",
       "<style scoped>\n",
       "    .dataframe tbody tr th:only-of-type {\n",
       "        vertical-align: middle;\n",
       "    }\n",
       "\n",
       "    .dataframe tbody tr th {\n",
       "        vertical-align: top;\n",
       "    }\n",
       "\n",
       "    .dataframe thead th {\n",
       "        text-align: right;\n",
       "    }\n",
       "</style>\n",
       "<table border=\"1\" class=\"dataframe\">\n",
       "  <thead>\n",
       "    <tr style=\"text-align: right;\">\n",
       "      <th></th>\n",
       "      <th>house_price</th>\n",
       "      <th>house_age</th>\n",
       "      <th>distance_to_nearest_MRT station</th>\n",
       "      <th>no_of_convenience_stores</th>\n",
       "    </tr>\n",
       "  </thead>\n",
       "  <tbody>\n",
       "    <tr>\n",
       "      <th>0</th>\n",
       "      <td>37.9</td>\n",
       "      <td>32.0</td>\n",
       "      <td>84.87882</td>\n",
       "      <td>10</td>\n",
       "    </tr>\n",
       "    <tr>\n",
       "      <th>1</th>\n",
       "      <td>42.2</td>\n",
       "      <td>19.5</td>\n",
       "      <td>306.59470</td>\n",
       "      <td>9</td>\n",
       "    </tr>\n",
       "    <tr>\n",
       "      <th>2</th>\n",
       "      <td>47.3</td>\n",
       "      <td>13.3</td>\n",
       "      <td>561.98450</td>\n",
       "      <td>5</td>\n",
       "    </tr>\n",
       "    <tr>\n",
       "      <th>3</th>\n",
       "      <td>54.8</td>\n",
       "      <td>13.3</td>\n",
       "      <td>561.98450</td>\n",
       "      <td>5</td>\n",
       "    </tr>\n",
       "    <tr>\n",
       "      <th>4</th>\n",
       "      <td>43.1</td>\n",
       "      <td>5.0</td>\n",
       "      <td>390.56840</td>\n",
       "      <td>5</td>\n",
       "    </tr>\n",
       "  </tbody>\n",
       "</table>\n",
       "</div>"
      ],
      "text/plain": [
       "   house_price  house_age  distance_to_nearest_MRT station  \\\n",
       "0         37.9       32.0                         84.87882   \n",
       "1         42.2       19.5                        306.59470   \n",
       "2         47.3       13.3                        561.98450   \n",
       "3         54.8       13.3                        561.98450   \n",
       "4         43.1        5.0                        390.56840   \n",
       "\n",
       "   no_of_convenience_stores  \n",
       "0                        10  \n",
       "1                         9  \n",
       "2                         5  \n",
       "3                         5  \n",
       "4                         5  "
      ]
     },
     "execution_count": 73,
     "metadata": {},
     "output_type": "execute_result"
    }
   ],
   "source": [
    "df_house = pd.read_csv('house_price_data.csv')\n",
    "df_house.head()"
   ]
  },
  {
   "cell_type": "code",
   "execution_count": 74,
   "metadata": {},
   "outputs": [
    {
     "data": {
      "text/plain": [
       "(414, 4)"
      ]
     },
     "execution_count": 74,
     "metadata": {},
     "output_type": "execute_result"
    }
   ],
   "source": [
    "df_house.shape"
   ]
  },
  {
   "cell_type": "code",
   "execution_count": 75,
   "metadata": {},
   "outputs": [
    {
     "data": {
      "text/plain": [
       "house_price                        float64\n",
       "house_age                          float64\n",
       "distance_to_nearest_MRT station    float64\n",
       "no_of_convenience_stores             int64\n",
       "dtype: object"
      ]
     },
     "execution_count": 75,
     "metadata": {},
     "output_type": "execute_result"
    }
   ],
   "source": [
    "df_house.dtypes"
   ]
  },
  {
   "cell_type": "code",
   "execution_count": 76,
   "metadata": {},
   "outputs": [
    {
     "data": {
      "text/plain": [
       "Index(['house_price', 'house_age', 'distance_to_nearest_MRT station',\n",
       "       'no_of_convenience_stores'],\n",
       "      dtype='object')"
      ]
     },
     "execution_count": 76,
     "metadata": {},
     "output_type": "execute_result"
    }
   ],
   "source": [
    "df_house.columns"
   ]
  },
  {
   "cell_type": "code",
   "execution_count": 78,
   "metadata": {},
   "outputs": [],
   "source": [
    "# Dependent and independent variables\n",
    "X = df_house.drop(labels=['house_price'], axis=1).values\n",
    "y = df_house['house_price'].values"
   ]
  },
  {
   "cell_type": "code",
   "execution_count": null,
   "metadata": {},
   "outputs": [],
   "source": []
  }
 ],
 "metadata": {
  "kernelspec": {
   "display_name": "Python 3",
   "language": "python",
   "name": "python3"
  },
  "language_info": {
   "codemirror_mode": {
    "name": "ipython",
    "version": 3
   },
   "file_extension": ".py",
   "mimetype": "text/x-python",
   "name": "python",
   "nbconvert_exporter": "python",
   "pygments_lexer": "ipython3",
   "version": "3.6.5"
  }
 },
 "nbformat": 4,
 "nbformat_minor": 2
}
